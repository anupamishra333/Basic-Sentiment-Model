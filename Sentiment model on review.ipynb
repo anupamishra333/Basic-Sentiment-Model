{
 "cells": [
  {
   "cell_type": "code",
   "execution_count": 1,
   "metadata": {},
   "outputs": [],
   "source": [
    "#importing libraries\n",
    "import tensorflow as tf\n",
    "\n",
    "from tensorflow.keras.preprocessing.text import Tokenizer\n",
    "from tensorflow.keras.preprocessing.sequence import pad_sequences"
   ]
  },
  {
   "cell_type": "code",
   "execution_count": 2,
   "metadata": {},
   "outputs": [],
   "source": [
    "import numpy as np\n",
    "import pandas as pd\n",
    "\n",
    "dataset = pd.read_csv(r'C:\\Users\\Anupam Mishra\\Desktop\\New folder\\Basic-Sentiment-Model\\sentiment.csv')\n",
    "\n",
    "sentences = dataset['text'].tolist()\n",
    "labels = dataset['sentiment'].tolist()\n",
    "\n",
    "# Separate out the sentences and labels into training and test sets\n",
    "training_size = int(len(sentences) * 0.8)\n",
    "\n",
    "training_sentences = sentences[0:training_size]\n",
    "testing_sentences = sentences[training_size:]\n",
    "training_labels = labels[0:training_size]\n",
    "testing_labels = labels[training_size:]\n",
    "\n",
    "# Make labels into numpy arrays for use with the network later\n",
    "training_labels_final = np.array(training_labels)\n",
    "testing_labels_final = np.array(testing_labels)"
   ]
  },
  {
   "cell_type": "code",
   "execution_count": 3,
   "metadata": {},
   "outputs": [],
   "source": [
    "vocab_size = 500\n",
    "embedding_dim = 16\n",
    "max_length = 50\n",
    "trunc_type='post'\n",
    "padding_type='post'\n",
    "oov_tok = \"lstmgcv\"\n",
    "\n",
    "tokenizer = Tokenizer(num_words = vocab_size, oov_token=oov_tok)\n",
    "tokenizer.fit_on_texts(training_sentences)\n",
    "word_index = tokenizer.word_index\n",
    "training_sequences = tokenizer.texts_to_sequences(training_sentences)\n",
    "training_padded = pad_sequences(training_sequences, maxlen=max_length, padding=padding_type, truncating=trunc_type)\n",
    "\n",
    "testing_sequences = tokenizer.texts_to_sequences(testing_sentences)\n",
    "testing_padded = pad_sequences(testing_sequences, maxlen=max_length, padding=padding_type, truncating=trunc_type)"
   ]
  },
  {
   "cell_type": "code",
   "execution_count": 4,
   "metadata": {},
   "outputs": [
    {
     "name": "stdout",
     "output_type": "stream",
     "text": [
      "Model: \"sequential\"\n",
      "_________________________________________________________________\n",
      "Layer (type)                 Output Shape              Param #   \n",
      "=================================================================\n",
      "embedding (Embedding)        (None, 50, 16)            8000      \n",
      "_________________________________________________________________\n",
      "global_average_pooling1d (Gl (None, 16)                0         \n",
      "_________________________________________________________________\n",
      "dense (Dense)                (None, 6)                 102       \n",
      "_________________________________________________________________\n",
      "dense_1 (Dense)              (None, 1)                 7         \n",
      "=================================================================\n",
      "Total params: 8,109\n",
      "Trainable params: 8,109\n",
      "Non-trainable params: 0\n",
      "_________________________________________________________________\n"
     ]
    }
   ],
   "source": [
    "model = tf.keras.Sequential([\n",
    "    tf.keras.layers.Embedding(vocab_size, embedding_dim, input_length=max_length),\n",
    "    tf.keras.layers.GlobalAveragePooling1D(),\n",
    "    tf.keras.layers.Dense(6, activation='relu'),\n",
    "    tf.keras.layers.Dense(1, activation='sigmoid')\n",
    "])\n",
    "model.compile(loss='binary_crossentropy',optimizer='adam',metrics=['accuracy'])\n",
    "model.summary()"
   ]
  },
  {
   "cell_type": "code",
   "execution_count": 5,
   "metadata": {},
   "outputs": [
    {
     "name": "stdout",
     "output_type": "stream",
     "text": [
      "Epoch 1/30\n",
      "50/50 [==============================] - 1s 5ms/step - loss: 0.6917 - accuracy: 0.5210 - val_loss: 0.6973 - val_accuracy: 0.4110\n",
      "Epoch 2/30\n",
      "50/50 [==============================] - 0s 2ms/step - loss: 0.6892 - accuracy: 0.5223 - val_loss: 0.6973 - val_accuracy: 0.4286\n",
      "Epoch 3/30\n",
      "50/50 [==============================] - 0s 1ms/step - loss: 0.6853 - accuracy: 0.5581 - val_loss: 0.6942 - val_accuracy: 0.4486\n",
      "Epoch 4/30\n",
      "50/50 [==============================] - 0s 1ms/step - loss: 0.6791 - accuracy: 0.5631 - val_loss: 0.6884 - val_accuracy: 0.4887\n",
      "Epoch 5/30\n",
      "50/50 [==============================] - 0s 1ms/step - loss: 0.6700 - accuracy: 0.6215 - val_loss: 0.6783 - val_accuracy: 0.5614\n",
      "Epoch 6/30\n",
      "50/50 [==============================] - 0s 2ms/step - loss: 0.6568 - accuracy: 0.6598 - val_loss: 0.6684 - val_accuracy: 0.5840\n",
      "Epoch 7/30\n",
      "50/50 [==============================] - 0s 2ms/step - loss: 0.6395 - accuracy: 0.7163 - val_loss: 0.6485 - val_accuracy: 0.6892\n",
      "Epoch 8/30\n",
      "50/50 [==============================] - 0s 2ms/step - loss: 0.6182 - accuracy: 0.7502 - val_loss: 0.6315 - val_accuracy: 0.7143\n",
      "Epoch 9/30\n",
      "50/50 [==============================] - 0s 2ms/step - loss: 0.5950 - accuracy: 0.7665 - val_loss: 0.6175 - val_accuracy: 0.7093\n",
      "Epoch 10/30\n",
      "50/50 [==============================] - 0s 2ms/step - loss: 0.5663 - accuracy: 0.7916 - val_loss: 0.5943 - val_accuracy: 0.7619\n",
      "Epoch 11/30\n",
      "50/50 [==============================] - 0s 2ms/step - loss: 0.5378 - accuracy: 0.8142 - val_loss: 0.5831 - val_accuracy: 0.7293\n",
      "Epoch 12/30\n",
      "50/50 [==============================] - 0s 2ms/step - loss: 0.5099 - accuracy: 0.8343 - val_loss: 0.5679 - val_accuracy: 0.7293\n",
      "Epoch 13/30\n",
      "50/50 [==============================] - 0s 2ms/step - loss: 0.4835 - accuracy: 0.8299 - val_loss: 0.5437 - val_accuracy: 0.7694\n",
      "Epoch 14/30\n",
      "50/50 [==============================] - 0s 2ms/step - loss: 0.4575 - accuracy: 0.8481 - val_loss: 0.5388 - val_accuracy: 0.7368\n",
      "Epoch 15/30\n",
      "50/50 [==============================] - 0s 2ms/step - loss: 0.4347 - accuracy: 0.8481 - val_loss: 0.5220 - val_accuracy: 0.7694\n",
      "Epoch 16/30\n",
      "50/50 [==============================] - 0s 2ms/step - loss: 0.4129 - accuracy: 0.8556 - val_loss: 0.5277 - val_accuracy: 0.7318\n",
      "Epoch 17/30\n",
      "50/50 [==============================] - 0s 2ms/step - loss: 0.3940 - accuracy: 0.8600 - val_loss: 0.5144 - val_accuracy: 0.7519\n",
      "Epoch 18/30\n",
      "50/50 [==============================] - 0s 1ms/step - loss: 0.3788 - accuracy: 0.8632 - val_loss: 0.4971 - val_accuracy: 0.7694\n",
      "Epoch 19/30\n",
      "50/50 [==============================] - 0s 2ms/step - loss: 0.3624 - accuracy: 0.8669 - val_loss: 0.5287 - val_accuracy: 0.7093\n",
      "Epoch 20/30\n",
      "50/50 [==============================] - 0s 2ms/step - loss: 0.3489 - accuracy: 0.8707 - val_loss: 0.5124 - val_accuracy: 0.7293\n",
      "Epoch 21/30\n",
      "50/50 [==============================] - 0s 2ms/step - loss: 0.3324 - accuracy: 0.8832 - val_loss: 0.4758 - val_accuracy: 0.7895\n",
      "Epoch 22/30\n",
      "50/50 [==============================] - 0s 2ms/step - loss: 0.3272 - accuracy: 0.8701 - val_loss: 0.4939 - val_accuracy: 0.7519\n",
      "Epoch 23/30\n",
      "50/50 [==============================] - 0s 2ms/step - loss: 0.3132 - accuracy: 0.8839 - val_loss: 0.4945 - val_accuracy: 0.7469\n",
      "Epoch 24/30\n",
      "50/50 [==============================] - 0s 2ms/step - loss: 0.3025 - accuracy: 0.8851 - val_loss: 0.4767 - val_accuracy: 0.7895\n",
      "Epoch 25/30\n",
      "50/50 [==============================] - 0s 2ms/step - loss: 0.2946 - accuracy: 0.8908 - val_loss: 0.4950 - val_accuracy: 0.7393\n",
      "Epoch 26/30\n",
      "50/50 [==============================] - 0s 2ms/step - loss: 0.2848 - accuracy: 0.8939 - val_loss: 0.4901 - val_accuracy: 0.7519\n",
      "Epoch 27/30\n",
      "50/50 [==============================] - 0s 2ms/step - loss: 0.2774 - accuracy: 0.8927 - val_loss: 0.4986 - val_accuracy: 0.7368\n",
      "Epoch 28/30\n",
      "50/50 [==============================] - 0s 2ms/step - loss: 0.2724 - accuracy: 0.8933 - val_loss: 0.4842 - val_accuracy: 0.7644\n",
      "Epoch 29/30\n",
      "50/50 [==============================] - 0s 2ms/step - loss: 0.2656 - accuracy: 0.8977 - val_loss: 0.5093 - val_accuracy: 0.7318\n",
      "Epoch 30/30\n",
      "50/50 [==============================] - 0s 2ms/step - loss: 0.2582 - accuracy: 0.9027 - val_loss: 0.5198 - val_accuracy: 0.7318\n"
     ]
    }
   ],
   "source": [
    "num_epochs = 30\n",
    "history = model.fit(training_padded, training_labels_final, epochs=num_epochs, validation_data=(testing_padded, testing_labels_final))"
   ]
  },
  {
   "cell_type": "code",
   "execution_count": 6,
   "metadata": {},
   "outputs": [
    {
     "data": {
      "image/png": "[encoded data removed]",
      "text/plain": [
       "<Figure size 432x288 with 1 Axes>"
      ]
     },
     "metadata": {
      "needs_background": "light"
     },
     "output_type": "display_data"
    },
    {
     "data": {
      "image/png": "[encoded data removed]",
      "text/plain": [
       "<Figure size 432x288 with 1 Axes>"
      ]
     },
     "metadata": {
      "needs_background": "light"
     },
     "output_type": "display_data"
    }
   ],
   "source": [
    "import matplotlib.pyplot as plt\n",
    "\n",
    "\n",
    "def plot_graphs(history, string):\n",
    "  plt.plot(history.history[string])\n",
    "  plt.plot(history.history['val_'+string])\n",
    "  plt.xlabel(\"Epochs\")\n",
    "  plt.ylabel(string)\n",
    "  plt.legend([string, 'val_'+string])\n",
    "  plt.show()\n",
    "  \n",
    "plot_graphs(history, \"accuracy\")\n",
    "plot_graphs(history, \"loss\")"
   ]
  },
  {
   "cell_type": "code",
   "execution_count": 7,
   "metadata": {},
   "outputs": [
    {
     "name": "stdout",
     "output_type": "stream",
     "text": [
      "(500, 16)\n"
     ]
    }
   ],
   "source": [
    "# First get the weights of the embedding layer\n",
    "e = model.layers[0]\n",
    "weights = e.get_weights()[0]\n",
    "print(weights.shape) # shape: (vocab_size, embedding_dim)"
   ]
  },
  {
   "cell_type": "code",
   "execution_count": 8,
   "metadata": {},
   "outputs": [],
   "source": [
    "import io\n",
    "\n",
    "# Create the reverse word index\n",
    "reverse_word_index = dict([(value, key) for (key, value) in word_index.items()])\n",
    "\n",
    "# Write out the embedding vectors and metadata\n",
    "out_v = io.open('vecs.tsv', 'w', encoding='utf-8')\n",
    "out_m = io.open('meta.tsv', 'w', encoding='utf-8')\n",
    "for word_num in range(1, vocab_size):\n",
    "  word = reverse_word_index[word_num]\n",
    "  embeddings = weights[word_num]\n",
    "  out_m.write(word + \"\\n\")\n",
    "  out_v.write('\\t'.join([str(x) for x in embeddings]) + \"\\n\")\n",
    "out_v.close()\n",
    "out_m.close()"
   ]
  },
  {
   "cell_type": "code",
   "execution_count": 14,
   "metadata": {},
   "outputs": [
    {
     "name": "stdout",
     "output_type": "stream",
     "text": [
      "['I will call u ', 'I hate spaghetti', 'Everything was cold', 'Everything was hot exactly as I wanted', 'Everything was green', 'the host seated us immediately', 'they gave us free chocolate cake', 'not sure about the wilted flowers on the table', 'only works when I stand on tippy toes', 'does not work when I stand on my head', 'This product is very good to use']\n",
      "\n",
      "\n",
      "\n",
      "I will call u \n",
      "[0.4073742]\n",
      "\n",
      "\n",
      "I hate spaghetti\n",
      "[0.20097756]\n",
      "\n",
      "\n",
      "Everything was cold\n",
      "[0.66578585]\n",
      "\n",
      "\n",
      "Everything was hot exactly as I wanted\n",
      "[0.49095663]\n",
      "\n",
      "\n",
      "Everything was green\n",
      "[0.66578585]\n",
      "\n",
      "\n",
      "the host seated us immediately\n",
      "[0.6572999]\n",
      "\n",
      "\n",
      "they gave us free chocolate cake\n",
      "[0.88729113]\n",
      "\n",
      "\n",
      "not sure about the wilted flowers on the table\n",
      "[0.12629816]\n",
      "\n",
      "\n",
      "only works when I stand on tippy toes\n",
      "[0.8857549]\n",
      "\n",
      "\n",
      "does not work when I stand on my head\n",
      "[0.03081781]\n",
      "\n",
      "\n",
      "This product is very good to use\n",
      "[0.9107759]\n",
      "\n",
      "\n"
     ]
    }
   ],
   "source": [
    "# Use the model to predict a review   \n",
    "random_reviews = ['I will call u ', 'I hate spaghetti', \n",
    "                'Everything was cold',\n",
    "                'Everything was hot exactly as I wanted', \n",
    "                'Everything was green', \n",
    "                'the host seated us immediately',\n",
    "                'they gave us free chocolate cake', \n",
    "                'not sure about the wilted flowers on the table',\n",
    "                'only works when I stand on tippy toes', \n",
    "                'does not work when I stand on my head',\n",
    "               'This product is very good to use']\n",
    "\n",
    "print(random_reviews) \n",
    "\n",
    "# Create the sequences\n",
    "padding_type='post'\n",
    "sample_sequences = tokenizer.texts_to_sequences(random_reviews)\n",
    "fakes_padded = pad_sequences(sample_sequences, padding=padding_type, maxlen=max_length)           \n",
    "\n",
    "print('\\n\\n')              \n",
    "\n",
    "classes = model.predict(fakes_padded)\n",
    "\n",
    "# The closer the class is to 1, the more positive the review is deemed to be\n",
    "for x in range(len(random_reviews)):\n",
    "  print(random_reviews[x])\n",
    "  print(classes[x])\n",
    "  print('\\n')\n",
    "\n"
   ]
  },
  {
   "cell_type": "code",
   "execution_count": null,
   "metadata": {},
   "outputs": [],
   "source": []
  }
 ],
 "metadata": {
  "kernelspec": {
   "display_name": "Python 3",
   "language": "python",
   "name": "python3"
  },
  "language_info": {
   "codemirror_mode": {
    "name": "ipython",
    "version": 3
   },
   "file_extension": ".py",
   "mimetype": "text/x-python",
   "name": "python",
   "nbconvert_exporter": "python",
   "pygments_lexer": "ipython3",
   "version": "3.8.5"
  }
 },
 "nbformat": 4,
 "nbformat_minor": 4
}
